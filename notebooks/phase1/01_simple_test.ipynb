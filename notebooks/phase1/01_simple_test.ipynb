{
 "cells": [
  {
   "cell_type": "markdown",
   "metadata": {},
   "source": [
    "# 🧪 Test Simple - Notebook AI-MAP\n",
    "\n",
    "Ce notebook teste votre environnement Jupyter pour le projet AI-MAP."
   ]
  },
  {
   "cell_type": "code",
   "execution_count": 1,
   "metadata": {},
   "outputs": [
    {
     "name": "stdout",
     "output_type": "stream",
     "text": [
      "✅ Bibliothèques de base importées!\n",
      "📊 Pandas version: 2.3.1\n",
      "🔢 NumPy version: 2.2.6\n"
     ]
    },
    {
     "ename": "AttributeError",
     "evalue": "module 'matplotlib.pyplot' has no attribute '__version__'",
     "output_type": "error",
     "traceback": [
      "\u001b[31m---------------------------------------------------------------------------\u001b[39m",
      "\u001b[31mAttributeError\u001b[39m                            Traceback (most recent call last)",
      "\u001b[36mCell\u001b[39m\u001b[36m \u001b[39m\u001b[32mIn[1]\u001b[39m\u001b[32m, line 9\u001b[39m\n\u001b[32m      7\u001b[39m \u001b[38;5;28mprint\u001b[39m(\u001b[33mf\u001b[39m\u001b[33m\"\u001b[39m\u001b[33m📊 Pandas version: \u001b[39m\u001b[38;5;132;01m{\u001b[39;00mpd.__version__\u001b[38;5;132;01m}\u001b[39;00m\u001b[33m\"\u001b[39m)\n\u001b[32m      8\u001b[39m \u001b[38;5;28mprint\u001b[39m(\u001b[33mf\u001b[39m\u001b[33m\"\u001b[39m\u001b[33m🔢 NumPy version: \u001b[39m\u001b[38;5;132;01m{\u001b[39;00mnp.__version__\u001b[38;5;132;01m}\u001b[39;00m\u001b[33m\"\u001b[39m)\n\u001b[32m----> \u001b[39m\u001b[32m9\u001b[39m \u001b[38;5;28mprint\u001b[39m(\u001b[33mf\u001b[39m\u001b[33m\"\u001b[39m\u001b[33m📈 Matplotlib version: \u001b[39m\u001b[38;5;132;01m{\u001b[39;00m\u001b[43mplt\u001b[49m\u001b[43m.\u001b[49m\u001b[43m__version__\u001b[49m\u001b[38;5;132;01m}\u001b[39;00m\u001b[33m\"\u001b[39m)\n",
      "\u001b[31mAttributeError\u001b[39m: module 'matplotlib.pyplot' has no attribute '__version__'"
     ]
    }
   ],
   "source": [
    "# Test 1: Import des bibliothèques de base\n",
    "import pandas as pd\n",
    "import numpy as np\n",
    "import matplotlib.pyplot as plt\n",
    "\n",
    "print(\"✅ Bibliothèques de base importées!\")\n",
    "print(f\"📊 Pandas version: {pd.__version__}\")\n",
    "print(f\"🔢 NumPy version: {np.__version__}\")\n",
    "print(f\"📈 Matplotlib version: {plt.__version__}\")"
   ]
  },
  {
   "cell_type": "code",
   "execution_count": null,
   "metadata": {},
   "outputs": [],
   "source": [
    "# Test 2: Création de données de test\n",
    "print(\"🔬 Création de données de test...\")\n",
    "\n",
    "# Coordonnées fictives\n",
    "x = np.linspace(0, 1000, 50)\n",
    "y = np.linspace(0, 500, 50)\n",
    "\n",
    "# Résistivités simulées\n",
    "resistivity = 100 + 50 * np.sin(x/100) + np.random.normal(0, 10, 50)\n",
    "\n",
    "print(f\"✅ {len(x)} points de données créés\")\n",
    "print(f\"📊 Plage des résistivités: {resistivity.min():.1f} - {resistivity.max():.1f} Ω.m\")"
   ]
  },
  {
   "cell_type": "code",
   "execution_count": null,
   "metadata": {},
   "outputs": [],
   "source": [
    "# Test 3: Visualisation simple\n",
    "print(\"🎨 Création d'une visualisation...\")\n",
    "\n",
    "plt.figure(figsize=(10, 6))\n",
    "plt.scatter(x, y, c=resistivity, cmap='viridis', s=50)\n",
    "plt.colorbar(label='Résistivité (Ω.m)')\n",
    "plt.title('🗺️ Carte des Résistivités - Test AI-MAP')\n",
    "plt.xlabel('X (m)')\n",
    "plt.ylabel('Y (m)')\n",
    "plt.grid(True, alpha=0.3)\n",
    "plt.show()\n",
    "\n",
    "print(\"✅ Visualisation créée avec succès!\")"
   ]
  }
 ],
 "metadata": {
  "kernelspec": {
   "display_name": "Python 3",
   "language": "python",
   "name": "python3"
  },
  "language_info": {
   "codemirror_mode": {
    "name": "ipython",
    "version": 3
   },
   "file_extension": ".py",
   "mimetype": "text/x-python",
   "name": "python",
   "nbconvert_exporter": "python",
   "pygments_lexer": "ipython3",
   "version": "3.13.1"
  }
 },
 "nbformat": 4,
 "nbformat_minor": 4
}
